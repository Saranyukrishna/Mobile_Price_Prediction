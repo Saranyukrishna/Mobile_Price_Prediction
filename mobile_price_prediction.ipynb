{
 "cells": [
  {
   "cell_type": "code",
   "execution_count": 1,
   "id": "68c983cd-8504-448d-81a0-9929c86471f1",
   "metadata": {},
   "outputs": [],
   "source": [
    "import numpy as np\n",
    "import pandas as pd \n"
   ]
  },
  {
   "cell_type": "code",
   "execution_count": 2,
   "id": "93afd37e-ba4d-4cd7-98b6-a96c74249d3c",
   "metadata": {},
   "outputs": [],
   "source": [
    "df=pd.read_csv(\"mobile_prices.csv\")"
   ]
  },
  {
   "cell_type": "code",
   "execution_count": 3,
   "id": "82aad274-813d-4366-9e15-5f4ac16248d9",
   "metadata": {},
   "outputs": [
    {
     "data": {
      "text/html": [
       "<div>\n",
       "<style scoped>\n",
       "    .dataframe tbody tr th:only-of-type {\n",
       "        vertical-align: middle;\n",
       "    }\n",
       "\n",
       "    .dataframe tbody tr th {\n",
       "        vertical-align: top;\n",
       "    }\n",
       "\n",
       "    .dataframe thead th {\n",
       "        text-align: right;\n",
       "    }\n",
       "</style>\n",
       "<table border=\"1\" class=\"dataframe\">\n",
       "  <thead>\n",
       "    <tr style=\"text-align: right;\">\n",
       "      <th></th>\n",
       "      <th>Unnamed: 0</th>\n",
       "      <th>Phone Name</th>\n",
       "      <th>RAM</th>\n",
       "      <th>ROM</th>\n",
       "      <th>Back Camera</th>\n",
       "      <th>Front_Camera</th>\n",
       "      <th>Battery</th>\n",
       "      <th>Processor</th>\n",
       "      <th>Price</th>\n",
       "    </tr>\n",
       "  </thead>\n",
       "  <tbody>\n",
       "    <tr>\n",
       "      <th>0</th>\n",
       "      <td>0</td>\n",
       "      <td>POCO C50 (Royal Blue, 32 GB)</td>\n",
       "      <td>2</td>\n",
       "      <td>32</td>\n",
       "      <td>8</td>\n",
       "      <td>5</td>\n",
       "      <td>5000 mAh</td>\n",
       "      <td>Mediatek Helio A22 Processor, Upto 2.0 GHz Pro...</td>\n",
       "      <td>₹5,649</td>\n",
       "    </tr>\n",
       "    <tr>\n",
       "      <th>1</th>\n",
       "      <td>1</td>\n",
       "      <td>POCO M4 5G (Cool Blue, 64 GB)</td>\n",
       "      <td>4</td>\n",
       "      <td>64</td>\n",
       "      <td>50</td>\n",
       "      <td>8</td>\n",
       "      <td>5000 mAh</td>\n",
       "      <td>Mediatek Dimensity 700 Processor</td>\n",
       "      <td>₹11,999</td>\n",
       "    </tr>\n",
       "    <tr>\n",
       "      <th>2</th>\n",
       "      <td>2</td>\n",
       "      <td>POCO C51 (Royal Blue, 64 GB)</td>\n",
       "      <td>4</td>\n",
       "      <td>64</td>\n",
       "      <td>8</td>\n",
       "      <td>5</td>\n",
       "      <td>5000 mAh</td>\n",
       "      <td>Helio G36 Processor</td>\n",
       "      <td>₹6,999</td>\n",
       "    </tr>\n",
       "    <tr>\n",
       "      <th>3</th>\n",
       "      <td>3</td>\n",
       "      <td>POCO C55 (Cool Blue, 64 GB)</td>\n",
       "      <td>4</td>\n",
       "      <td>64</td>\n",
       "      <td>50</td>\n",
       "      <td>5</td>\n",
       "      <td>5000 mAh</td>\n",
       "      <td>Mediatek Helio G85 Processor</td>\n",
       "      <td>₹7,749</td>\n",
       "    </tr>\n",
       "    <tr>\n",
       "      <th>4</th>\n",
       "      <td>4</td>\n",
       "      <td>POCO C51 (Power Black, 64 GB)</td>\n",
       "      <td>4</td>\n",
       "      <td>64</td>\n",
       "      <td>8</td>\n",
       "      <td>5</td>\n",
       "      <td>5000 mAh</td>\n",
       "      <td>Helio G36 Processor</td>\n",
       "      <td>₹6,999</td>\n",
       "    </tr>\n",
       "  </tbody>\n",
       "</table>\n",
       "</div>"
      ],
      "text/plain": [
       "   Unnamed: 0                     Phone Name  RAM  ROM  Back Camera  \\\n",
       "0           0   POCO C50 (Royal Blue, 32 GB)    2   32            8   \n",
       "1           1  POCO M4 5G (Cool Blue, 64 GB)    4   64           50   \n",
       "2           2   POCO C51 (Royal Blue, 64 GB)    4   64            8   \n",
       "3           3    POCO C55 (Cool Blue, 64 GB)    4   64           50   \n",
       "4           4  POCO C51 (Power Black, 64 GB)    4   64            8   \n",
       "\n",
       "   Front_Camera   Battery                                          Processor  \\\n",
       "0             5  5000 mAh  Mediatek Helio A22 Processor, Upto 2.0 GHz Pro...   \n",
       "1             8  5000 mAh                   Mediatek Dimensity 700 Processor   \n",
       "2             5  5000 mAh                                Helio G36 Processor   \n",
       "3             5  5000 mAh                       Mediatek Helio G85 Processor   \n",
       "4             5  5000 mAh                                Helio G36 Processor   \n",
       "\n",
       "     Price  \n",
       "0   ₹5,649  \n",
       "1  ₹11,999  \n",
       "2   ₹6,999  \n",
       "3   ₹7,749  \n",
       "4   ₹6,999  "
      ]
     },
     "execution_count": 3,
     "metadata": {},
     "output_type": "execute_result"
    }
   ],
   "source": [
    "df.head(5)"
   ]
  },
  {
   "cell_type": "code",
   "execution_count": 4,
   "id": "2b0dd7ed-8dc0-4da1-8af1-e7029f6be81a",
   "metadata": {},
   "outputs": [
    {
     "data": {
      "text/html": [
       "<div>\n",
       "<style scoped>\n",
       "    .dataframe tbody tr th:only-of-type {\n",
       "        vertical-align: middle;\n",
       "    }\n",
       "\n",
       "    .dataframe tbody tr th {\n",
       "        vertical-align: top;\n",
       "    }\n",
       "\n",
       "    .dataframe thead th {\n",
       "        text-align: right;\n",
       "    }\n",
       "</style>\n",
       "<table border=\"1\" class=\"dataframe\">\n",
       "  <thead>\n",
       "    <tr style=\"text-align: right;\">\n",
       "      <th></th>\n",
       "      <th>Phone Name</th>\n",
       "      <th>RAM</th>\n",
       "      <th>ROM</th>\n",
       "      <th>Back Camera</th>\n",
       "      <th>Front_Camera</th>\n",
       "      <th>Battery</th>\n",
       "      <th>Processor</th>\n",
       "      <th>Price</th>\n",
       "    </tr>\n",
       "  </thead>\n",
       "  <tbody>\n",
       "    <tr>\n",
       "      <th>0</th>\n",
       "      <td>POCO C50 (Royal Blue, 32 GB)</td>\n",
       "      <td>2</td>\n",
       "      <td>32</td>\n",
       "      <td>8</td>\n",
       "      <td>5</td>\n",
       "      <td>5000 mAh</td>\n",
       "      <td>Mediatek Helio A22 Processor, Upto 2.0 GHz Pro...</td>\n",
       "      <td>₹5,649</td>\n",
       "    </tr>\n",
       "    <tr>\n",
       "      <th>1</th>\n",
       "      <td>POCO M4 5G (Cool Blue, 64 GB)</td>\n",
       "      <td>4</td>\n",
       "      <td>64</td>\n",
       "      <td>50</td>\n",
       "      <td>8</td>\n",
       "      <td>5000 mAh</td>\n",
       "      <td>Mediatek Dimensity 700 Processor</td>\n",
       "      <td>₹11,999</td>\n",
       "    </tr>\n",
       "    <tr>\n",
       "      <th>2</th>\n",
       "      <td>POCO C51 (Royal Blue, 64 GB)</td>\n",
       "      <td>4</td>\n",
       "      <td>64</td>\n",
       "      <td>8</td>\n",
       "      <td>5</td>\n",
       "      <td>5000 mAh</td>\n",
       "      <td>Helio G36 Processor</td>\n",
       "      <td>₹6,999</td>\n",
       "    </tr>\n",
       "    <tr>\n",
       "      <th>3</th>\n",
       "      <td>POCO C55 (Cool Blue, 64 GB)</td>\n",
       "      <td>4</td>\n",
       "      <td>64</td>\n",
       "      <td>50</td>\n",
       "      <td>5</td>\n",
       "      <td>5000 mAh</td>\n",
       "      <td>Mediatek Helio G85 Processor</td>\n",
       "      <td>₹7,749</td>\n",
       "    </tr>\n",
       "    <tr>\n",
       "      <th>4</th>\n",
       "      <td>POCO C51 (Power Black, 64 GB)</td>\n",
       "      <td>4</td>\n",
       "      <td>64</td>\n",
       "      <td>8</td>\n",
       "      <td>5</td>\n",
       "      <td>5000 mAh</td>\n",
       "      <td>Helio G36 Processor</td>\n",
       "      <td>₹6,999</td>\n",
       "    </tr>\n",
       "  </tbody>\n",
       "</table>\n",
       "</div>"
      ],
      "text/plain": [
       "                      Phone Name  RAM  ROM  Back Camera  Front_Camera  \\\n",
       "0   POCO C50 (Royal Blue, 32 GB)    2   32            8             5   \n",
       "1  POCO M4 5G (Cool Blue, 64 GB)    4   64           50             8   \n",
       "2   POCO C51 (Royal Blue, 64 GB)    4   64            8             5   \n",
       "3    POCO C55 (Cool Blue, 64 GB)    4   64           50             5   \n",
       "4  POCO C51 (Power Black, 64 GB)    4   64            8             5   \n",
       "\n",
       "    Battery                                          Processor    Price  \n",
       "0  5000 mAh  Mediatek Helio A22 Processor, Upto 2.0 GHz Pro...   ₹5,649  \n",
       "1  5000 mAh                   Mediatek Dimensity 700 Processor  ₹11,999  \n",
       "2  5000 mAh                                Helio G36 Processor   ₹6,999  \n",
       "3  5000 mAh                       Mediatek Helio G85 Processor   ₹7,749  \n",
       "4  5000 mAh                                Helio G36 Processor   ₹6,999  "
      ]
     },
     "execution_count": 4,
     "metadata": {},
     "output_type": "execute_result"
    }
   ],
   "source": [
    "df.drop(columns=['Unnamed: 0'],inplace=True)\n",
    "df.head(5)"
   ]
  },
  {
   "cell_type": "code",
   "execution_count": 5,
   "id": "e7e060ca-d302-4775-95dd-3b17d545b359",
   "metadata": {},
   "outputs": [
    {
     "name": "stdout",
     "output_type": "stream",
     "text": [
      "<class 'pandas.core.frame.DataFrame'>\n",
      "RangeIndex: 2001 entries, 0 to 2000\n",
      "Data columns (total 8 columns):\n",
      " #   Column        Non-Null Count  Dtype \n",
      "---  ------        --------------  ----- \n",
      " 0   Phone Name    2001 non-null   object\n",
      " 1   RAM           2001 non-null   int64 \n",
      " 2   ROM           2001 non-null   int64 \n",
      " 3   Back Camera   2001 non-null   int64 \n",
      " 4   Front_Camera  2001 non-null   int64 \n",
      " 5   Battery       2001 non-null   object\n",
      " 6   Processor     2001 non-null   object\n",
      " 7   Price         2001 non-null   object\n",
      "dtypes: int64(4), object(4)\n",
      "memory usage: 125.2+ KB\n"
     ]
    }
   ],
   "source": [
    "df.info()"
   ]
  },
  {
   "cell_type": "code",
   "execution_count": 6,
   "id": "cb8d0864-c9c8-49b9-aa48-677cc57defc4",
   "metadata": {},
   "outputs": [
    {
     "data": {
      "text/plain": [
       "51"
      ]
     },
     "execution_count": 6,
     "metadata": {},
     "output_type": "execute_result"
    }
   ],
   "source": [
    "df.duplicated().sum()"
   ]
  },
  {
   "cell_type": "code",
   "execution_count": 7,
   "id": "dcc3b104-26c7-4a67-8a40-78c0db5dff28",
   "metadata": {},
   "outputs": [
    {
     "data": {
      "text/plain": [
       "(2001, 8)"
      ]
     },
     "execution_count": 7,
     "metadata": {},
     "output_type": "execute_result"
    }
   ],
   "source": [
    "df.shape\n"
   ]
  },
  {
   "cell_type": "code",
   "execution_count": 8,
   "id": "11567dd5-45bd-4942-856b-d6ed0af527e0",
   "metadata": {},
   "outputs": [],
   "source": [
    "df.drop_duplicates(inplace=True)"
   ]
  },
  {
   "cell_type": "code",
   "execution_count": 9,
   "id": "6012eab8-9ffe-418b-b0b4-c926f22b94bf",
   "metadata": {},
   "outputs": [
    {
     "data": {
      "text/plain": [
       "0"
      ]
     },
     "execution_count": 9,
     "metadata": {},
     "output_type": "execute_result"
    }
   ],
   "source": [
    "df.duplicated().sum()"
   ]
  },
  {
   "cell_type": "code",
   "execution_count": 10,
   "id": "e2f5adc6-1e37-42f6-bc39-d6629c4576dc",
   "metadata": {},
   "outputs": [
    {
     "data": {
      "text/plain": [
       "Phone Name      0\n",
       "RAM             0\n",
       "ROM             0\n",
       "Back Camera     0\n",
       "Front_Camera    0\n",
       "Battery         0\n",
       "Processor       0\n",
       "Price           0\n",
       "dtype: int64"
      ]
     },
     "execution_count": 10,
     "metadata": {},
     "output_type": "execute_result"
    }
   ],
   "source": [
    "df.isnull().sum()"
   ]
  },
  {
   "cell_type": "code",
   "execution_count": 11,
   "id": "7dc1513b-c8ce-4e0d-ac83-2447c0a9e097",
   "metadata": {},
   "outputs": [],
   "source": [
    "df.dropna(inplace=True)"
   ]
  },
  {
   "cell_type": "code",
   "execution_count": 12,
   "id": "3433f1ee-f57f-4390-91a7-848fe2458880",
   "metadata": {},
   "outputs": [
    {
     "data": {
      "text/html": [
       "<div>\n",
       "<style scoped>\n",
       "    .dataframe tbody tr th:only-of-type {\n",
       "        vertical-align: middle;\n",
       "    }\n",
       "\n",
       "    .dataframe tbody tr th {\n",
       "        vertical-align: top;\n",
       "    }\n",
       "\n",
       "    .dataframe thead th {\n",
       "        text-align: right;\n",
       "    }\n",
       "</style>\n",
       "<table border=\"1\" class=\"dataframe\">\n",
       "  <thead>\n",
       "    <tr style=\"text-align: right;\">\n",
       "      <th></th>\n",
       "      <th>Phone Name</th>\n",
       "      <th>RAM</th>\n",
       "      <th>ROM</th>\n",
       "      <th>Back Camera</th>\n",
       "      <th>Front_Camera</th>\n",
       "      <th>Battery</th>\n",
       "      <th>Processor</th>\n",
       "      <th>Price</th>\n",
       "    </tr>\n",
       "  </thead>\n",
       "  <tbody>\n",
       "    <tr>\n",
       "      <th>0</th>\n",
       "      <td>POCO C50 (Royal Blue, 32 GB)</td>\n",
       "      <td>2</td>\n",
       "      <td>32</td>\n",
       "      <td>8</td>\n",
       "      <td>5</td>\n",
       "      <td>5000 mAh</td>\n",
       "      <td>Mediatek Helio A22 Processor, Upto 2.0 GHz Pro...</td>\n",
       "      <td>₹5,649</td>\n",
       "    </tr>\n",
       "    <tr>\n",
       "      <th>1</th>\n",
       "      <td>POCO M4 5G (Cool Blue, 64 GB)</td>\n",
       "      <td>4</td>\n",
       "      <td>64</td>\n",
       "      <td>50</td>\n",
       "      <td>8</td>\n",
       "      <td>5000 mAh</td>\n",
       "      <td>Mediatek Dimensity 700 Processor</td>\n",
       "      <td>₹11,999</td>\n",
       "    </tr>\n",
       "    <tr>\n",
       "      <th>2</th>\n",
       "      <td>POCO C51 (Royal Blue, 64 GB)</td>\n",
       "      <td>4</td>\n",
       "      <td>64</td>\n",
       "      <td>8</td>\n",
       "      <td>5</td>\n",
       "      <td>5000 mAh</td>\n",
       "      <td>Helio G36 Processor</td>\n",
       "      <td>₹6,999</td>\n",
       "    </tr>\n",
       "    <tr>\n",
       "      <th>3</th>\n",
       "      <td>POCO C55 (Cool Blue, 64 GB)</td>\n",
       "      <td>4</td>\n",
       "      <td>64</td>\n",
       "      <td>50</td>\n",
       "      <td>5</td>\n",
       "      <td>5000 mAh</td>\n",
       "      <td>Mediatek Helio G85 Processor</td>\n",
       "      <td>₹7,749</td>\n",
       "    </tr>\n",
       "    <tr>\n",
       "      <th>4</th>\n",
       "      <td>POCO C51 (Power Black, 64 GB)</td>\n",
       "      <td>4</td>\n",
       "      <td>64</td>\n",
       "      <td>8</td>\n",
       "      <td>5</td>\n",
       "      <td>5000 mAh</td>\n",
       "      <td>Helio G36 Processor</td>\n",
       "      <td>₹6,999</td>\n",
       "    </tr>\n",
       "    <tr>\n",
       "      <th>...</th>\n",
       "      <td>...</td>\n",
       "      <td>...</td>\n",
       "      <td>...</td>\n",
       "      <td>...</td>\n",
       "      <td>...</td>\n",
       "      <td>...</td>\n",
       "      <td>...</td>\n",
       "      <td>...</td>\n",
       "    </tr>\n",
       "    <tr>\n",
       "      <th>1996</th>\n",
       "      <td>vivo T2x 5G (Marine Blue, 128 GB)</td>\n",
       "      <td>6</td>\n",
       "      <td>128</td>\n",
       "      <td>50</td>\n",
       "      <td>8</td>\n",
       "      <td>5000 mAh Battery</td>\n",
       "      <td>Mediatek Dimensity 6020 Processor</td>\n",
       "      <td>₹12,999</td>\n",
       "    </tr>\n",
       "    <tr>\n",
       "      <th>1997</th>\n",
       "      <td>SAMSUNG Galaxy S23 5G (Phantom Black, 128 GB)</td>\n",
       "      <td>8</td>\n",
       "      <td>128</td>\n",
       "      <td>50</td>\n",
       "      <td>12</td>\n",
       "      <td>3900 mAh Lithium Ion Battery</td>\n",
       "      <td>Qualcomm Snapdragon 8 Gen 2 Processor</td>\n",
       "      <td>₹39,999</td>\n",
       "    </tr>\n",
       "    <tr>\n",
       "      <th>1998</th>\n",
       "      <td>vivo X200 5G (Cosmos Black, 256 GB)</td>\n",
       "      <td>12</td>\n",
       "      <td>256</td>\n",
       "      <td>50</td>\n",
       "      <td>32</td>\n",
       "      <td>5800 mAh Battery</td>\n",
       "      <td>Dimensity 9400 Processor</td>\n",
       "      <td>₹65,999</td>\n",
       "    </tr>\n",
       "    <tr>\n",
       "      <th>1999</th>\n",
       "      <td>vivo Y28s 5G (Vintage Red, 128 GB)</td>\n",
       "      <td>6</td>\n",
       "      <td>128</td>\n",
       "      <td>50</td>\n",
       "      <td>8</td>\n",
       "      <td>5000 mAh Battery</td>\n",
       "      <td>Dimensity 6300 Processor</td>\n",
       "      <td>₹14,499</td>\n",
       "    </tr>\n",
       "    <tr>\n",
       "      <th>2000</th>\n",
       "      <td>SAMSUNG Galaxy S23 5G (Phantom Black, 256 GB)</td>\n",
       "      <td>8</td>\n",
       "      <td>256</td>\n",
       "      <td>50</td>\n",
       "      <td>12</td>\n",
       "      <td>3900 mAh Lithium Ion Battery</td>\n",
       "      <td>Qualcomm Snapdragon 8 Gen 2 Processor</td>\n",
       "      <td>₹42,999</td>\n",
       "    </tr>\n",
       "  </tbody>\n",
       "</table>\n",
       "<p>1950 rows × 8 columns</p>\n",
       "</div>"
      ],
      "text/plain": [
       "                                         Phone Name  RAM  ROM  Back Camera  \\\n",
       "0                      POCO C50 (Royal Blue, 32 GB)    2   32            8   \n",
       "1                     POCO M4 5G (Cool Blue, 64 GB)    4   64           50   \n",
       "2                      POCO C51 (Royal Blue, 64 GB)    4   64            8   \n",
       "3                       POCO C55 (Cool Blue, 64 GB)    4   64           50   \n",
       "4                     POCO C51 (Power Black, 64 GB)    4   64            8   \n",
       "...                                             ...  ...  ...          ...   \n",
       "1996              vivo T2x 5G (Marine Blue, 128 GB)    6  128           50   \n",
       "1997  SAMSUNG Galaxy S23 5G (Phantom Black, 128 GB)    8  128           50   \n",
       "1998            vivo X200 5G (Cosmos Black, 256 GB)   12  256           50   \n",
       "1999             vivo Y28s 5G (Vintage Red, 128 GB)    6  128           50   \n",
       "2000  SAMSUNG Galaxy S23 5G (Phantom Black, 256 GB)    8  256           50   \n",
       "\n",
       "      Front_Camera                       Battery  \\\n",
       "0                5                      5000 mAh   \n",
       "1                8                      5000 mAh   \n",
       "2                5                      5000 mAh   \n",
       "3                5                      5000 mAh   \n",
       "4                5                      5000 mAh   \n",
       "...            ...                           ...   \n",
       "1996             8              5000 mAh Battery   \n",
       "1997            12  3900 mAh Lithium Ion Battery   \n",
       "1998            32              5800 mAh Battery   \n",
       "1999             8              5000 mAh Battery   \n",
       "2000            12  3900 mAh Lithium Ion Battery   \n",
       "\n",
       "                                              Processor    Price  \n",
       "0     Mediatek Helio A22 Processor, Upto 2.0 GHz Pro...   ₹5,649  \n",
       "1                      Mediatek Dimensity 700 Processor  ₹11,999  \n",
       "2                                   Helio G36 Processor   ₹6,999  \n",
       "3                          Mediatek Helio G85 Processor   ₹7,749  \n",
       "4                                   Helio G36 Processor   ₹6,999  \n",
       "...                                                 ...      ...  \n",
       "1996                  Mediatek Dimensity 6020 Processor  ₹12,999  \n",
       "1997              Qualcomm Snapdragon 8 Gen 2 Processor  ₹39,999  \n",
       "1998                           Dimensity 9400 Processor  ₹65,999  \n",
       "1999                           Dimensity 6300 Processor  ₹14,499  \n",
       "2000              Qualcomm Snapdragon 8 Gen 2 Processor  ₹42,999  \n",
       "\n",
       "[1950 rows x 8 columns]"
      ]
     },
     "execution_count": 12,
     "metadata": {},
     "output_type": "execute_result"
    }
   ],
   "source": [
    "df"
   ]
  },
  {
   "cell_type": "code",
   "execution_count": 13,
   "id": "ca06afaa-bde3-43c9-b4ea-58ba7b508fa3",
   "metadata": {},
   "outputs": [
    {
     "data": {
      "text/plain": [
       "(1950, 8)"
      ]
     },
     "execution_count": 13,
     "metadata": {},
     "output_type": "execute_result"
    }
   ],
   "source": [
    "df.shape"
   ]
  },
  {
   "cell_type": "code",
   "execution_count": 14,
   "id": "da164e9f-4274-4396-a1ec-86f1ee4b5de1",
   "metadata": {},
   "outputs": [
    {
     "data": {
      "text/plain": [
       "0                     [POCO, C50, (Royal, Blue,, 32, GB)]\n",
       "1                   [POCO, M4, 5G, (Cool, Blue,, 64, GB)]\n",
       "2                     [POCO, C51, (Royal, Blue,, 64, GB)]\n",
       "3                      [POCO, C55, (Cool, Blue,, 64, GB)]\n",
       "4                    [POCO, C51, (Power, Black,, 64, GB)]\n",
       "                              ...                        \n",
       "1996            [vivo, T2x, 5G, (Marine, Blue,, 128, GB)]\n",
       "1997    [SAMSUNG, Galaxy, S23, 5G, (Phantom, Black,, 1...\n",
       "1998          [vivo, X200, 5G, (Cosmos, Black,, 256, GB)]\n",
       "1999           [vivo, Y28s, 5G, (Vintage, Red,, 128, GB)]\n",
       "2000    [SAMSUNG, Galaxy, S23, 5G, (Phantom, Black,, 2...\n",
       "Name: Phone Name, Length: 1950, dtype: object"
      ]
     },
     "execution_count": 14,
     "metadata": {},
     "output_type": "execute_result"
    }
   ],
   "source": [
    "df['Phone Name'].str.split()"
   ]
  },
  {
   "cell_type": "code",
   "execution_count": 15,
   "id": "62231506-1759-4124-aa9f-6957f6294e97",
   "metadata": {},
   "outputs": [
    {
     "data": {
      "text/html": [
       "<div>\n",
       "<style scoped>\n",
       "    .dataframe tbody tr th:only-of-type {\n",
       "        vertical-align: middle;\n",
       "    }\n",
       "\n",
       "    .dataframe tbody tr th {\n",
       "        vertical-align: top;\n",
       "    }\n",
       "\n",
       "    .dataframe thead th {\n",
       "        text-align: right;\n",
       "    }\n",
       "</style>\n",
       "<table border=\"1\" class=\"dataframe\">\n",
       "  <thead>\n",
       "    <tr style=\"text-align: right;\">\n",
       "      <th></th>\n",
       "      <th>Phone Name</th>\n",
       "      <th>RAM</th>\n",
       "      <th>ROM</th>\n",
       "      <th>Back Camera</th>\n",
       "      <th>Front_Camera</th>\n",
       "      <th>Battery</th>\n",
       "      <th>Processor</th>\n",
       "      <th>Price</th>\n",
       "    </tr>\n",
       "  </thead>\n",
       "  <tbody>\n",
       "    <tr>\n",
       "      <th>0</th>\n",
       "      <td>POCO C50 (Royal Blue, 32 GB)</td>\n",
       "      <td>2</td>\n",
       "      <td>32</td>\n",
       "      <td>8</td>\n",
       "      <td>5</td>\n",
       "      <td>5000 mAh</td>\n",
       "      <td>Mediatek Helio A22 Processor, Upto 2.0 GHz Pro...</td>\n",
       "      <td>₹5,649</td>\n",
       "    </tr>\n",
       "    <tr>\n",
       "      <th>1</th>\n",
       "      <td>POCO M4 5G (Cool Blue, 64 GB)</td>\n",
       "      <td>4</td>\n",
       "      <td>64</td>\n",
       "      <td>50</td>\n",
       "      <td>8</td>\n",
       "      <td>5000 mAh</td>\n",
       "      <td>Mediatek Dimensity 700 Processor</td>\n",
       "      <td>₹11,999</td>\n",
       "    </tr>\n",
       "    <tr>\n",
       "      <th>2</th>\n",
       "      <td>POCO C51 (Royal Blue, 64 GB)</td>\n",
       "      <td>4</td>\n",
       "      <td>64</td>\n",
       "      <td>8</td>\n",
       "      <td>5</td>\n",
       "      <td>5000 mAh</td>\n",
       "      <td>Helio G36 Processor</td>\n",
       "      <td>₹6,999</td>\n",
       "    </tr>\n",
       "    <tr>\n",
       "      <th>3</th>\n",
       "      <td>POCO C55 (Cool Blue, 64 GB)</td>\n",
       "      <td>4</td>\n",
       "      <td>64</td>\n",
       "      <td>50</td>\n",
       "      <td>5</td>\n",
       "      <td>5000 mAh</td>\n",
       "      <td>Mediatek Helio G85 Processor</td>\n",
       "      <td>₹7,749</td>\n",
       "    </tr>\n",
       "    <tr>\n",
       "      <th>4</th>\n",
       "      <td>POCO C51 (Power Black, 64 GB)</td>\n",
       "      <td>4</td>\n",
       "      <td>64</td>\n",
       "      <td>8</td>\n",
       "      <td>5</td>\n",
       "      <td>5000 mAh</td>\n",
       "      <td>Helio G36 Processor</td>\n",
       "      <td>₹6,999</td>\n",
       "    </tr>\n",
       "  </tbody>\n",
       "</table>\n",
       "</div>"
      ],
      "text/plain": [
       "                      Phone Name  RAM  ROM  Back Camera  Front_Camera  \\\n",
       "0   POCO C50 (Royal Blue, 32 GB)    2   32            8             5   \n",
       "1  POCO M4 5G (Cool Blue, 64 GB)    4   64           50             8   \n",
       "2   POCO C51 (Royal Blue, 64 GB)    4   64            8             5   \n",
       "3    POCO C55 (Cool Blue, 64 GB)    4   64           50             5   \n",
       "4  POCO C51 (Power Black, 64 GB)    4   64            8             5   \n",
       "\n",
       "    Battery                                          Processor    Price  \n",
       "0  5000 mAh  Mediatek Helio A22 Processor, Upto 2.0 GHz Pro...   ₹5,649  \n",
       "1  5000 mAh                   Mediatek Dimensity 700 Processor  ₹11,999  \n",
       "2  5000 mAh                                Helio G36 Processor   ₹6,999  \n",
       "3  5000 mAh                       Mediatek Helio G85 Processor   ₹7,749  \n",
       "4  5000 mAh                                Helio G36 Processor   ₹6,999  "
      ]
     },
     "execution_count": 15,
     "metadata": {},
     "output_type": "execute_result"
    }
   ],
   "source": [
    "df.head(5)"
   ]
  },
  {
   "cell_type": "code",
   "execution_count": 16,
   "id": "3d0d02be-2dee-4dd0-9f52-582795f82a0f",
   "metadata": {},
   "outputs": [],
   "source": [
    "df['Price']=df['Price'].str.replace('₹','').str.replace(',','')"
   ]
  },
  {
   "cell_type": "code",
   "execution_count": 17,
   "id": "3d8f26e3-c476-48c0-974f-0fb420094213",
   "metadata": {},
   "outputs": [
    {
     "name": "stderr",
     "output_type": "stream",
     "text": [
      "C:\\Users\\Hi\\AppData\\Local\\Temp\\ipykernel_7592\\3892478860.py:3: SettingWithCopyWarning: \n",
      "A value is trying to be set on a copy of a slice from a DataFrame.\n",
      "Try using .loc[row_indexer,col_indexer] = value instead\n",
      "\n",
      "See the caveats in the documentation: https://pandas.pydata.org/pandas-docs/stable/user_guide/indexing.html#returning-a-view-versus-a-copy\n",
      "  df['Price'] = df['Price'].astype(int)\n"
     ]
    },
    {
     "data": {
      "text/html": [
       "<div>\n",
       "<style scoped>\n",
       "    .dataframe tbody tr th:only-of-type {\n",
       "        vertical-align: middle;\n",
       "    }\n",
       "\n",
       "    .dataframe tbody tr th {\n",
       "        vertical-align: top;\n",
       "    }\n",
       "\n",
       "    .dataframe thead th {\n",
       "        text-align: right;\n",
       "    }\n",
       "</style>\n",
       "<table border=\"1\" class=\"dataframe\">\n",
       "  <thead>\n",
       "    <tr style=\"text-align: right;\">\n",
       "      <th></th>\n",
       "      <th>Phone Name</th>\n",
       "      <th>RAM</th>\n",
       "      <th>ROM</th>\n",
       "      <th>Back Camera</th>\n",
       "      <th>Front_Camera</th>\n",
       "      <th>Battery</th>\n",
       "      <th>Processor</th>\n",
       "      <th>Price</th>\n",
       "    </tr>\n",
       "  </thead>\n",
       "  <tbody>\n",
       "    <tr>\n",
       "      <th>0</th>\n",
       "      <td>POCO C50 (Royal Blue, 32 GB)</td>\n",
       "      <td>2</td>\n",
       "      <td>32</td>\n",
       "      <td>8</td>\n",
       "      <td>5</td>\n",
       "      <td>5000 mAh</td>\n",
       "      <td>Mediatek Helio A22 Processor, Upto 2.0 GHz Pro...</td>\n",
       "      <td>5649</td>\n",
       "    </tr>\n",
       "    <tr>\n",
       "      <th>1</th>\n",
       "      <td>POCO M4 5G (Cool Blue, 64 GB)</td>\n",
       "      <td>4</td>\n",
       "      <td>64</td>\n",
       "      <td>50</td>\n",
       "      <td>8</td>\n",
       "      <td>5000 mAh</td>\n",
       "      <td>Mediatek Dimensity 700 Processor</td>\n",
       "      <td>11999</td>\n",
       "    </tr>\n",
       "    <tr>\n",
       "      <th>2</th>\n",
       "      <td>POCO C51 (Royal Blue, 64 GB)</td>\n",
       "      <td>4</td>\n",
       "      <td>64</td>\n",
       "      <td>8</td>\n",
       "      <td>5</td>\n",
       "      <td>5000 mAh</td>\n",
       "      <td>Helio G36 Processor</td>\n",
       "      <td>6999</td>\n",
       "    </tr>\n",
       "    <tr>\n",
       "      <th>3</th>\n",
       "      <td>POCO C55 (Cool Blue, 64 GB)</td>\n",
       "      <td>4</td>\n",
       "      <td>64</td>\n",
       "      <td>50</td>\n",
       "      <td>5</td>\n",
       "      <td>5000 mAh</td>\n",
       "      <td>Mediatek Helio G85 Processor</td>\n",
       "      <td>7749</td>\n",
       "    </tr>\n",
       "    <tr>\n",
       "      <th>4</th>\n",
       "      <td>POCO C51 (Power Black, 64 GB)</td>\n",
       "      <td>4</td>\n",
       "      <td>64</td>\n",
       "      <td>8</td>\n",
       "      <td>5</td>\n",
       "      <td>5000 mAh</td>\n",
       "      <td>Helio G36 Processor</td>\n",
       "      <td>6999</td>\n",
       "    </tr>\n",
       "  </tbody>\n",
       "</table>\n",
       "</div>"
      ],
      "text/plain": [
       "                      Phone Name  RAM  ROM  Back Camera  Front_Camera  \\\n",
       "0   POCO C50 (Royal Blue, 32 GB)    2   32            8             5   \n",
       "1  POCO M4 5G (Cool Blue, 64 GB)    4   64           50             8   \n",
       "2   POCO C51 (Royal Blue, 64 GB)    4   64            8             5   \n",
       "3    POCO C55 (Cool Blue, 64 GB)    4   64           50             5   \n",
       "4  POCO C51 (Power Black, 64 GB)    4   64            8             5   \n",
       "\n",
       "    Battery                                          Processor  Price  \n",
       "0  5000 mAh  Mediatek Helio A22 Processor, Upto 2.0 GHz Pro...   5649  \n",
       "1  5000 mAh                   Mediatek Dimensity 700 Processor  11999  \n",
       "2  5000 mAh                                Helio G36 Processor   6999  \n",
       "3  5000 mAh                       Mediatek Helio G85 Processor   7749  \n",
       "4  5000 mAh                                Helio G36 Processor   6999  "
      ]
     },
     "execution_count": 17,
     "metadata": {},
     "output_type": "execute_result"
    }
   ],
   "source": [
    "df['Price'] = pd.to_numeric(df['Price'], errors='coerce')\n",
    "df = df.dropna(subset=['Price'])\n",
    "df['Price'] = df['Price'].astype(int)\n",
    "df.head(5)"
   ]
  },
  {
   "cell_type": "code",
   "execution_count": 18,
   "id": "7b06faf0-88ac-4196-8929-2e52da28a027",
   "metadata": {},
   "outputs": [
    {
     "data": {
      "text/plain": [
       "array([  5649,  11999,   6999,   7749,   9249,  13999,   8999,   6499,\n",
       "        15999,  10999,  23999,  17999,  14499,  17499,  21999,  29999,\n",
       "        16499,  32999,  19499,  14999,   8499,  16999,  20999,  13689,\n",
       "        27999,  24999,   9999,  11990,  19999,  15490,  39999,  18999,\n",
       "        12999,  12990,  25999,  36999,  10499,   5999,  12499,  15499,\n",
       "         7078,  15495,  12350,   8449,   7499,  10699,   9699,   7180,\n",
       "        10489,   8949,  11499,   8049,   8749,  11998,  13499,   8427,\n",
       "        11699,   8910,  11495,   5549,  12490,   9499,  11199,   9290,\n",
       "        34999,  38999,  10790,   6049,  32299,  22999,  18499,  14490,\n",
       "        13490,   8093,   7985,   2380,  49999,  30999,  40999,  29900,\n",
       "        79999, 124999,  16200,  15899,  28999,  25990,  94999,   8199,\n",
       "         9990,  36990,   9850,   7462,   7790,  50010,   7199,  41999,\n",
       "       104999,  39930,  18450, 134999,  72999,  51990,  42999,  51490,\n",
       "        62500,  27995,  27499,  17990,  16900,   8487,  19998,  29499,\n",
       "         9176,  17998,   7766,  33499,  16590,   6060,   5900,  31998,\n",
       "        11200,   8298,  30498,  10190,  12900,   5499,  11929,   9820,\n",
       "        21699,   9349,   9490,  24497,  25388,  14990,  20900,  16490,\n",
       "         9900,  13990,  19450,  12988,  89999,  19990,  32990,  35990,\n",
       "        10990,  16990,  10490,  19000,   9090,  27990,  17899,  12149,\n",
       "         8090,  20980,  29990,  10920,  20990,  15990,   8490,   7990,\n",
       "         8590,  49990,  13989,  31999,  56999,  43999,  84999,  54499,\n",
       "        54999,  80000,  11218,  28215,  12868,  12890,  10989,  28485,\n",
       "         9989,  17690,  31989,  63999,  29490,  59999,  31185,  24990,\n",
       "        19979,  24899,  33890,  35999,  19989,  13980,  25499,  37999,\n",
       "        22000,   7999,  34990,  11899,  16988,  14640,  21990,  30990,\n",
       "        11490,  14889,  28990,  11390,  46990,  37990,  38990,  43990,\n",
       "        47990,  39998,  17449,  50990,  44990,  26990,  18990,  26499,\n",
       "        48990,  27700,  22221,  23990,  17989,  16290,  36600,  64990,\n",
       "        18490,  32499,  18985,  24996,  22990,  16599,  26999,  28799,\n",
       "        34499,  38849,  13600,   9399,   6485,   8799,  21499,  22500,\n",
       "         6495,  22800,  10649,   7079,   7290,   6500,  12749,  28699,\n",
       "        39990,  14599,  12500,  10749,   6299,  17600,   6190,  11280,\n",
       "        16799,  10799,   3939,   8599,  10299,  13199,   8489,   8315,\n",
       "        11299,  17997,  44999,  11099,  11249,  50330,  44744,  38500,\n",
       "        31990,  50900,  42998,  16500,   7699,   3799,  10310,  10090,\n",
       "        13604,   8399,   6199,  18599,   8299,  18942,  22948,  22357,\n",
       "        24812,  21952,  22314,  26685,  24799,  27045,  35499,  28399,\n",
       "        45999,  37499,  25000,  29250,  28831,  43850,  26799,  22799,\n",
       "        27650,  27525,  20499,  28499,  22900,  15498,  19790,  20986,\n",
       "        17535,  14645,  14460,  21500,  22499,  33999,  23490,  24842,\n",
       "        20877,  20490,  22769,  23980,  20519,  21399,  24490,  23499,\n",
       "        24000,  20890,  22840,  21490,  20699,  14798,  21900,  24900,\n",
       "        21000,  33899,  34878,  34890,  30499,  34780,   6249,   7299,\n",
       "         6699,  13386,  13500,   6899,   7380,  11749,  11643,   7390,\n",
       "        12135,  12620,   8880,  57170,   7459,   6349,  16484,   7455,\n",
       "        16491,   7849,   8868,  10605,  14920,  58998,  10712,  57479,\n",
       "         7890,  65999])"
      ]
     },
     "execution_count": 18,
     "metadata": {},
     "output_type": "execute_result"
    }
   ],
   "source": [
    "df['Price'].unique()"
   ]
  },
  {
   "cell_type": "code",
   "execution_count": 19,
   "id": "40a067b2-87d1-43cd-9054-a461372b67f5",
   "metadata": {},
   "outputs": [],
   "source": [
    "df = df[(df['Price'] >= 7000) & (df['Price'] <= 50000)]\n",
    "df['Price'] = df['Price'].astype('int64')"
   ]
  },
  {
   "cell_type": "code",
   "execution_count": 20,
   "id": "5e02f5f0-7aa2-436c-96bd-8c7b878a7350",
   "metadata": {},
   "outputs": [
    {
     "name": "stdout",
     "output_type": "stream",
     "text": [
      "<class 'pandas.core.frame.DataFrame'>\n",
      "Index: 1815 entries, 1 to 2000\n",
      "Data columns (total 8 columns):\n",
      " #   Column        Non-Null Count  Dtype \n",
      "---  ------        --------------  ----- \n",
      " 0   Phone Name    1815 non-null   object\n",
      " 1   RAM           1815 non-null   int64 \n",
      " 2   ROM           1815 non-null   int64 \n",
      " 3   Back Camera   1815 non-null   int64 \n",
      " 4   Front_Camera  1815 non-null   int64 \n",
      " 5   Battery       1815 non-null   object\n",
      " 6   Processor     1815 non-null   object\n",
      " 7   Price         1815 non-null   int64 \n",
      "dtypes: int64(5), object(3)\n",
      "memory usage: 127.6+ KB\n"
     ]
    }
   ],
   "source": [
    "df.info()"
   ]
  },
  {
   "cell_type": "code",
   "execution_count": 21,
   "id": "b93aa03d-14dd-44bb-b098-2133a1c6fe52",
   "metadata": {},
   "outputs": [
    {
     "data": {
      "text/plain": [
       "array([  4,   6,   8,  12,   3,   2, 512,   1,  16], dtype=int64)"
      ]
     },
     "execution_count": 21,
     "metadata": {},
     "output_type": "execute_result"
    }
   ],
   "source": [
    "df['RAM'].unique()"
   ]
  },
  {
   "cell_type": "code",
   "execution_count": 22,
   "id": "260c3639-7bca-4fdf-9838-40371c708f5b",
   "metadata": {},
   "outputs": [
    {
     "data": {
      "text/plain": [
       "array([ 4,  6,  8, 12,  3,  2,  1], dtype=int64)"
      ]
     },
     "execution_count": 22,
     "metadata": {},
     "output_type": "execute_result"
    }
   ],
   "source": [
    "df = df[~df['RAM'].isin([512, 16])]\n",
    "df.reset_index(drop=True, inplace=True)\n",
    "df['RAM'].unique()"
   ]
  },
  {
   "cell_type": "code",
   "execution_count": 23,
   "id": "dcfb7b35-b4f0-4e89-9001-7ac25c165da9",
   "metadata": {},
   "outputs": [],
   "source": [
    "df['Battery'] = df['Battery'].str.extract(r'(\\d+)').astype(int)\n"
   ]
  },
  {
   "cell_type": "code",
   "execution_count": 24,
   "id": "6e32be50-4e9f-495d-bcce-9bf0920f7f6c",
   "metadata": {},
   "outputs": [
    {
     "data": {
      "text/html": [
       "<div>\n",
       "<style scoped>\n",
       "    .dataframe tbody tr th:only-of-type {\n",
       "        vertical-align: middle;\n",
       "    }\n",
       "\n",
       "    .dataframe tbody tr th {\n",
       "        vertical-align: top;\n",
       "    }\n",
       "\n",
       "    .dataframe thead th {\n",
       "        text-align: right;\n",
       "    }\n",
       "</style>\n",
       "<table border=\"1\" class=\"dataframe\">\n",
       "  <thead>\n",
       "    <tr style=\"text-align: right;\">\n",
       "      <th></th>\n",
       "      <th>Phone Name</th>\n",
       "      <th>RAM</th>\n",
       "      <th>ROM</th>\n",
       "      <th>Back Camera</th>\n",
       "      <th>Front_Camera</th>\n",
       "      <th>Battery</th>\n",
       "      <th>Processor</th>\n",
       "      <th>Price</th>\n",
       "    </tr>\n",
       "  </thead>\n",
       "  <tbody>\n",
       "    <tr>\n",
       "      <th>0</th>\n",
       "      <td>POCO M4 5G (Cool Blue, 64 GB)</td>\n",
       "      <td>4</td>\n",
       "      <td>64</td>\n",
       "      <td>50</td>\n",
       "      <td>8</td>\n",
       "      <td>5000</td>\n",
       "      <td>Mediatek Dimensity 700 Processor</td>\n",
       "      <td>11999</td>\n",
       "    </tr>\n",
       "    <tr>\n",
       "      <th>1</th>\n",
       "      <td>POCO C55 (Cool Blue, 64 GB)</td>\n",
       "      <td>4</td>\n",
       "      <td>64</td>\n",
       "      <td>50</td>\n",
       "      <td>5</td>\n",
       "      <td>5000</td>\n",
       "      <td>Mediatek Helio G85 Processor</td>\n",
       "      <td>7749</td>\n",
       "    </tr>\n",
       "    <tr>\n",
       "      <th>2</th>\n",
       "      <td>POCO M4 5G (Power Black, 64 GB)</td>\n",
       "      <td>4</td>\n",
       "      <td>64</td>\n",
       "      <td>50</td>\n",
       "      <td>8</td>\n",
       "      <td>5000</td>\n",
       "      <td>Mediatek Dimensity 700 Processor</td>\n",
       "      <td>11999</td>\n",
       "    </tr>\n",
       "    <tr>\n",
       "      <th>3</th>\n",
       "      <td>POCO C55 (Power Black, 64 GB)</td>\n",
       "      <td>4</td>\n",
       "      <td>64</td>\n",
       "      <td>50</td>\n",
       "      <td>5</td>\n",
       "      <td>5000</td>\n",
       "      <td>Mediatek Helio G85 Processor</td>\n",
       "      <td>7749</td>\n",
       "    </tr>\n",
       "    <tr>\n",
       "      <th>4</th>\n",
       "      <td>POCO C55 (Forest Green, 64 GB)</td>\n",
       "      <td>4</td>\n",
       "      <td>64</td>\n",
       "      <td>50</td>\n",
       "      <td>5</td>\n",
       "      <td>5000</td>\n",
       "      <td>Mediatek Helio G85 Processor</td>\n",
       "      <td>7749</td>\n",
       "    </tr>\n",
       "  </tbody>\n",
       "</table>\n",
       "</div>"
      ],
      "text/plain": [
       "                        Phone Name  RAM  ROM  Back Camera  Front_Camera  \\\n",
       "0    POCO M4 5G (Cool Blue, 64 GB)    4   64           50             8   \n",
       "1      POCO C55 (Cool Blue, 64 GB)    4   64           50             5   \n",
       "2  POCO M4 5G (Power Black, 64 GB)    4   64           50             8   \n",
       "3    POCO C55 (Power Black, 64 GB)    4   64           50             5   \n",
       "4   POCO C55 (Forest Green, 64 GB)    4   64           50             5   \n",
       "\n",
       "   Battery                         Processor  Price  \n",
       "0     5000  Mediatek Dimensity 700 Processor  11999  \n",
       "1     5000      Mediatek Helio G85 Processor   7749  \n",
       "2     5000  Mediatek Dimensity 700 Processor  11999  \n",
       "3     5000      Mediatek Helio G85 Processor   7749  \n",
       "4     5000      Mediatek Helio G85 Processor   7749  "
      ]
     },
     "execution_count": 24,
     "metadata": {},
     "output_type": "execute_result"
    }
   ],
   "source": [
    "df['Battery']=df['Battery'].astype(int)\n",
    "df.head(5)"
   ]
  },
  {
   "cell_type": "code",
   "execution_count": 25,
   "id": "b32c76fc-bf44-4dab-819c-a23f55b4d599",
   "metadata": {},
   "outputs": [
    {
     "data": {
      "text/plain": [
       "array([ 64, 128, 256,  32,  16,   8,   4, 512], dtype=int64)"
      ]
     },
     "execution_count": 25,
     "metadata": {},
     "output_type": "execute_result"
    }
   ],
   "source": [
    "df['ROM'].unique()"
   ]
  },
  {
   "cell_type": "code",
   "execution_count": 26,
   "id": "ec51db02-1b4e-4833-a0a2-24ea266ff78f",
   "metadata": {},
   "outputs": [
    {
     "data": {
      "text/plain": [
       "array([ 64, 128, 256,  32,  16,   8,   4, 512], dtype=int64)"
      ]
     },
     "execution_count": 26,
     "metadata": {},
     "output_type": "execute_result"
    }
   ],
   "source": [
    "df = df[~df['ROM'].isin([0])]\n",
    "df.reset_index(drop=True, inplace=True)\n",
    "df['ROM'].unique()"
   ]
  },
  {
   "cell_type": "code",
   "execution_count": 27,
   "id": "84b3499f-bcc0-469a-b5b4-860ba5601ae8",
   "metadata": {},
   "outputs": [
    {
     "data": {
      "text/plain": [
       "-0.1972875028941457"
      ]
     },
     "execution_count": 27,
     "metadata": {},
     "output_type": "execute_result"
    }
   ],
   "source": [
    "df['Battery'].corr(df['Price'])"
   ]
  },
  {
   "cell_type": "code",
   "execution_count": 28,
   "id": "aaf41706-0154-4f03-8f0d-3fb975731f56",
   "metadata": {},
   "outputs": [
    {
     "data": {
      "text/plain": [
       "array([ 8,  5, 16, 13, 20, 32, 10, 25, 44, 50, 12, 24,  4,  2, 60,  1,  0],\n",
       "      dtype=int64)"
      ]
     },
     "execution_count": 28,
     "metadata": {},
     "output_type": "execute_result"
    }
   ],
   "source": [
    "df['Front_Camera'].unique()"
   ]
  },
  {
   "cell_type": "code",
   "execution_count": 29,
   "id": "1662826d-748e-4748-b4d3-a40c8ae1cc4e",
   "metadata": {},
   "outputs": [
    {
     "data": {
      "text/plain": [
       "array([ 8,  5, 16, 13, 20, 32, 10, 25, 44, 50, 12, 24,  4, 60],\n",
       "      dtype=int64)"
      ]
     },
     "execution_count": 29,
     "metadata": {},
     "output_type": "execute_result"
    }
   ],
   "source": [
    "df = df[~df['Front_Camera'].isin([0,1,2])]\n",
    "df.reset_index(drop=True, inplace=True)\n",
    "df['Front_Camera'].unique()"
   ]
  },
  {
   "cell_type": "code",
   "execution_count": 30,
   "id": "89189e86-2a37-4c13-9947-e4bce597b7a4",
   "metadata": {},
   "outputs": [
    {
     "data": {
      "text/plain": [
       "array([ 50,  64,  48, 108,  13,  12,   8,  25,  16,  20, 200,  24,   2,\n",
       "       100,  32], dtype=int64)"
      ]
     },
     "execution_count": 30,
     "metadata": {},
     "output_type": "execute_result"
    }
   ],
   "source": [
    "df['Back Camera'].unique()"
   ]
  },
  {
   "cell_type": "code",
   "execution_count": 31,
   "id": "3e9e24ac-2b68-4505-ab0b-6338ae3877c4",
   "metadata": {},
   "outputs": [
    {
     "data": {
      "text/plain": [
       "0.6668412543711629"
      ]
     },
     "execution_count": 31,
     "metadata": {},
     "output_type": "execute_result"
    }
   ],
   "source": [
    "df['RAM'].corr(df['Price'])"
   ]
  },
  {
   "cell_type": "code",
   "execution_count": 32,
   "id": "7c16c9f9-f72b-4b25-942a-4d29a1f85af0",
   "metadata": {},
   "outputs": [
    {
     "data": {
      "text/plain": [
       "0.584506429876787"
      ]
     },
     "execution_count": 32,
     "metadata": {},
     "output_type": "execute_result"
    }
   ],
   "source": [
    "df['ROM'].corr(df['Price'])"
   ]
  },
  {
   "cell_type": "code",
   "execution_count": 33,
   "id": "e2091eee-ff24-4881-8399-c474c43f7fc0",
   "metadata": {},
   "outputs": [
    {
     "data": {
      "text/plain": [
       "array(['MediaTek Dimensity 700 Processor', 'MediaTek Helio G85 Processor',\n",
       "       'MediaTek Helio G99 Processor', 'MediaTek Helio G96 Processor',\n",
       "       'Qualcomm Snapdragon 695 Processor',\n",
       "       'MediaTek Dimensity 810 Processor',\n",
       "       'Qualcomm Snapdragon 778G Processor',\n",
       "       'Qualcomm Snapdragon 695 5G Processor',\n",
       "       'Qualcomm Snapdragon 7+ Gen 2 (4nm) Processor',\n",
       "       'MediaTek Helio G35 Processor',\n",
       "       'Qualcomm Snapdragon 730G Processor', 'MediaTek G35 Processor',\n",
       "       'Qualcomm Snapdragon 845 Processor',\n",
       "       'Qualcomm Snapdragon 870 Processor',\n",
       "       'MediaTek Helio G80 Processor',\n",
       "       'Qualcomm Snapdragon 720G Processor',\n",
       "       'Qualcomm Snapdragon 860 Processor',\n",
       "       'Qualcomm Snapdragon 662 Processor',\n",
       "       'Qualcomm Snapdragon 732G Processor',\n",
       "       'MediaTek Dimensity 1200 Processor', 'Helio G88 Processor',\n",
       "       'Unisoc T612 Processor', 'MediaTek Helio G99 Octa Core Processor',\n",
       "       'Unisoc T612 processor Processor',\n",
       "       'MediaTek Dimensity 810 5G Processor', 'Unisoc T610 Processor',\n",
       "       'Unisoc Tiger T616 Processor', 'SC9863A Processor',\n",
       "       'MediaTek Helio G95 Processor',\n",
       "       'Qualcomm Snapdragon 888 Processor',\n",
       "       'MediaTek Dimensity 800U Processor', 'Octa-core Processor',\n",
       "       'MediaTek Dimensity 1080 5G Processor',\n",
       "       '1 Year Manufacturer Warranty for Phone and 6 Months Warranty for In-Box Accessories',\n",
       "       'Qualcomm Snapdragon 680 (SM6225) Processor',\n",
       "       'Qualcomm Snapdragon 855+ Processor',\n",
       "       'Unisoc SC9863A/ Unisoc SC9863A1 Processor',\n",
       "       'MediaTek Dimensity 920 Processor', 'Unisoc T618 Processor',\n",
       "       'MediaTek Dimensity 700 (MT6833) Processor',\n",
       "       'Snapdragon 720G Processor', 'Unisoc T610 Octa Core Processor',\n",
       "       'MediaTek Helio P60 Octa Core 2.0 GHz Processor',\n",
       "       'Qualcomm Snapdragon 680 Processor',\n",
       "       'MediaTek Helio G70 Processor', 'MediaTek Helio G90T Processor',\n",
       "       'MediaTek Helio P35 Processor', 'Exynos 850 Processor',\n",
       "       'Exynos 1330, Octa Core Processor',\n",
       "       'Qualcomm Snapdragon 750G Processor',\n",
       "       'Qualcomm Snapdragon 8 Gen 1 Processor',\n",
       "       'SEC S5E8535 (Exynos 1330) Processor',\n",
       "       'Qualcomm Snapdragon 695 (SM6375) Processor',\n",
       "       'Qualcomm Snapdragon 888 Octa-Core Processor',\n",
       "       'Dimensity 1080, Octa Core Processor',\n",
       "       'Exynos 1380, Octa Core Processor', 'Octa-core(EXYNOS) Processor',\n",
       "       '1 Year Manufacturer Warranty for Device and 6 Months Manufacturer Warranty for In-Box Accessories',\n",
       "       'Exynos Octa Core Processor',\n",
       "       'Exynos Octa Core Processor Processor',\n",
       "       '1 Year of Device & 6 Months for In-Box Accessories',\n",
       "       'Dimensity 720 5G Processor', 'Exynos 9610 Processor',\n",
       "       'Exynos 1280 Processor', 'Unisoc UMS9230 Processor',\n",
       "       'MediaTek MT6765 Helio P35 (12nm) Processor',\n",
       "       '1 Year Manufacturer Warranty for Device and 6 Months Manufacturer Warranty for In-Box',\n",
       "       'Octa Core Processor', 'Exynos 850 (S5E3830) Processor',\n",
       "       'MediaTek Helio G80 (MT6769V) Processor',\n",
       "       'MediaTek MT6739 Processor', 'Exynos 850 Octa Core Processor',\n",
       "       'Qualcomm Snapdragon 450 (SDM450-F01) Processor',\n",
       "       'Qualcomm SM7150 Processor', '1 Year',\n",
       "       'Qualcomm Snapdragon 450 Processor',\n",
       "       'Samsung Exynos 9 Octa 9611 Processor', 'Exynos 9825 Processor',\n",
       "       'Qualcomm Snapdragon (SDM450-F01) Octa Core Processor',\n",
       "       'MediaTek Helio G35 (MT6765G) Processor',\n",
       "       'Exynos 7870 Octa Core 1.6 GHz Processor',\n",
       "       '1 Year Manufacturer Warranty',\n",
       "       'MediaTek Helio P35 (MT6765) Processor',\n",
       "       'Qualcomm SDM450-B01 Processor',\n",
       "       'Qualcomm SM6225 Snapdragon 680 4G (6 nm) Processor',\n",
       "       'MediaTek Dimensity 1300 Processor', 'MTK Helio G35 Processor',\n",
       "       '12 months', 'MediaTek Helio P22 Processor',\n",
       "       'MediaTek Helio G35 (MT6765) Processor',\n",
       "       'MediaTek Helio P35 Octa Core Processor',\n",
       "       'MediaTek Helio P95 Processor',\n",
       "       'Qualcomm Snapdragon 460 Processor',\n",
       "       'Brand Warranty of 1 Year Available for Mobile Including Battery and 6 Months for Accessories',\n",
       "       'MTK P60 Octa Core 2.0 GHz Processor',\n",
       "       'MediaTek Dimensity 900 Processor',\n",
       "       'MediaTek Dimensity 1000+ (MT6889) Processor',\n",
       "       'MediaTek MT6750T Octa Core 1.5 GHz Processor',\n",
       "       'Qualcomm Snapdragon 665 Processor', 'SDM710 Processor',\n",
       "       'MediaTek MT6763T Octa Core 2.5 GHz Processor',\n",
       "       'MTK MT6771V (P70) Processor', 'Google Tensor Processor',\n",
       "       'Tensor G2 Processor', 'Dimensity 6020 Processor',\n",
       "       'Snapdragon 695 Processor', 'MediaTek Dimensity 7200 5G Processor',\n",
       "       'Qualcomm Snapdragon 439 Processor',\n",
       "       'Qualcomm Snapdragon 778G 5G Mobile Platform Processor',\n",
       "       'MediaTek G96 Processor', 'MediaTek MT6769 Helio G70 Processor',\n",
       "       'MediaTek Dimensity 8200 Processor', 'MTK Dimensity 700 Processor',\n",
       "       'Turbo Processor Snapdragon 695 Processor',\n",
       "       'MediaTek P22 Processor', 'MTK Helio P22 Processor',\n",
       "       'MediaTek P60 Octa Core 2.0 GHz Processor',\n",
       "       'Qualcomm Snapdragon 665 AIE Processor',\n",
       "       'Qualcomm Snapdragon 712 AIE Octa Core 2.3GHz Processor',\n",
       "       'Qualcomm Snapdragon 660 AIE Processor',\n",
       "       'Qualcomm Snapdragon 450 Octa Core 1.8 GHz Processor',\n",
       "       'MediaTek MT6750 Octa Core 1.5GHz Processor',\n",
       "       'Helio P35 Processor', 'MT6762 Octa Core (Helio P22) Processor',\n",
       "       'Qualcomm Snapdragon 626 Processor',\n",
       "       'Qualcomm Snapdragon 675AIE Processor',\n",
       "       'Qualcomm Snapdragon 675AIE Octa Core 2.0GHz Processor',\n",
       "       'Qualcomm Snapdragon 712 AIE Processor',\n",
       "       'Snapdragon 439 Processor', 'Qualcomm Snapdragon 778G+ Processor',\n",
       "       'Qualcomm Snapdragon 865 Processor',\n",
       "       'Qualcomm Snapdragon 636 Processor',\n",
       "       'Qualcomm Snapdragon 625 Processor',\n",
       "       'MediaTek Helio G25 Processor',\n",
       "       'Qualcomm Snapdragon 730 Processor',\n",
       "       '2.0 GHz MediaTek P22 Octacore Processor',\n",
       "       'Qualcomm Snapdragon 632 Processor',\n",
       "       'Qualcomm Snapdragon 625 64-bit Octa Core 2GHz Processor',\n",
       "       'Qualcomm Snapdragon 650 64-bit Processor',\n",
       "       'Snapdragon 820 Kryo Processor',\n",
       "       '2nd-gen Snapdragon 615 64-bit octa-core Processor',\n",
       "       'Qualcomm Snapdragon 855 Processor',\n",
       "       'Qualcomm® Snapdragon™ 750G Processor',\n",
       "       'Qualcomm Snapdragon 430 64-bit Octa Core 1.4GHz Processor',\n",
       "       'Qualcomm Snapdragon 835 Octa Core 2.5 GHz Processor',\n",
       "       'Qualcomm Snapdragon 625 64 bit Octa Core 2GHz Processor',\n",
       "       'Qualcomm Snapdragon 625 Octa Core 2 Ghz Processor',\n",
       "       'Qualcomm Snapdragon 675 Processor', 'Unisoc T606 Processor',\n",
       "       'Qualcomm Snapdragon 636 Octacore Processor',\n",
       "       'Octa Core Processor Processor', 'Unisoc SC9863A Processor',\n",
       "       'Spreadtrum SC9863A Processor', 'MediaTek Helio A22 Processor',\n",
       "       'MediaTek Helio P60 Processor', 'MediaTek Helio G37 Processor',\n",
       "       'Helio G85 Processor', 'MediaTek Dimensity 930 Processor',\n",
       "       'Dimensity 8020 Processor', 'UNISOC T700 Processor',\n",
       "       'Qualcomm Snapdragon 888 + Processor',\n",
       "       'Qualcomm Snapdragon 778G Plus Processor',\n",
       "       'Qualcomm Snapdragon 8+ Gen 1 Processor',\n",
       "       'Qualcomm Snapdragon 480 Pro Processor',\n",
       "       'Qualcomm Snapdragon 870 5G (SM8250-AC) Processor',\n",
       "       'Snapdragon 460 Processor', 'Qualcomm® Snapdragon™ 765G Processor',\n",
       "       '1 year manufacturer warranty for device and 6 months manufacturer warranty for in-box accessories including batteries from the date of purchase',\n",
       "       'Qualcomm® Snapdragon™ 855 Plus Processor',\n",
       "       'Qualcomm® Snapdragon™ 855 Plus (Octa-core, 7nm, up to 2.96 GHz) , with Qualcomm AI Engine Processor',\n",
       "       'HiSilicon Kirin 710F AI Chipset with Dual-NPU Processor',\n",
       "       'HUAWEI Kirin 955 ARM Cortex-A72 64-bit + ARM Cortex-A53 64-bit Processor',\n",
       "       'HUAWEI Kirin 955 ARM Cortex-A72 64-bit + ARM Cortex-A53 64-bit Octa Core 2.5GHz Processor',\n",
       "       'Kirin 710 Processor',\n",
       "       'Qualcomm Snapdragon 810 v2.1 64-bit Processor',\n",
       "       '1 Year for Mobile & 6 Months for Accessories',\n",
       "       'MSM8952 Processor', 'MSM8909 Processor', 'MTK 6592M Processor',\n",
       "       'MediaTek MTK Helio P25 Octa Core 2.5 GHz Processor',\n",
       "       'MTK8735 Processor', 'Qualcomm SDM710 Processor',\n",
       "       'Qualcomm Snapdragon SDM450 Processor',\n",
       "       'MediaTek Helio P10 64-bit Octa Core 1.8GHz Processor',\n",
       "       'Qualcomm Snapdragon 820 Quad Core 2.15GHz Processor',\n",
       "       'Qualcomm SDM855 Processor', 'MediaTek P22 Octa Core Processor',\n",
       "       'Qualcomm Snapdragon 430 Octa Core 1.4GHz Processor',\n",
       "       'Unisoc Spreadtrum SC9863A1 Processor', 'G37 Processor',\n",
       "       'Dimensity 810 Processor', 'MediaTek G37 Processor',\n",
       "       'Meditek Helio G37 Processor', 'MediaTek Helio G88 Processor',\n",
       "       'MediaTek G99 Processor', 'MediaTek Dimensity 1080 Processor',\n",
       "       'Unisoc T616 Processor', 'MediaTek Helio A20 Processor',\n",
       "       'UniSoc T610 Processor', 'Helio P22 (MTK6762) Processor',\n",
       "       '7s Gen 2 Processor', '7 Gen 3 Mobile Platform Processor',\n",
       "       'Snapdragon 7 Gen 1 Accelerated Edition Processor',\n",
       "       'Dimensity 7300 Processor', '8s Gen3 Processor',\n",
       "       'Snapdragon 7s Gen2 Processor', 'Samsung Exynos 1380 Processor',\n",
       "       '7s Gen 2 Mobile Platform 5G Processor',\n",
       "       'Dimensity 9200+ Processor', 'Dimensity 7350 Pro 5G Processor',\n",
       "       'Dimensity 7200 Ultra 5G Processor',\n",
       "       'Snapdragon 7s Gen 2 Processor', 'Dimensity D8300 Ultra Processor',\n",
       "       'Dimensity 7300 Energy Processor', 'Dimensity 7200 Pro Processor',\n",
       "       'Dimensity 8200 Ultimate Processor', '7 Gen 3 Processor',\n",
       "       'Dimensity 7050 Processor', '6 Gen 1 Processor', '1 Year Warranty',\n",
       "       'Dimensity 7200 Processor', 'Snapdragon 888 Processor',\n",
       "       '1 Year Manufacturer Warranty for Handset and 6 Months Warranty for In the Box Accessories',\n",
       "       'Qualcomm Snapdragon 8 Gen 1 Mobile Platform Processor',\n",
       "       'MediaTek Dimensity 8100 Processor', 'Dimensity 900 Processor',\n",
       "       'MediaTek Dimensity 7050 Processor',\n",
       "       'Qualcomm Snapdragon 710 Processor', 'Dimensity 7030 Processor',\n",
       "       'MediaTek Dimensity 1000 Plus Processor', '6s Gen 3 Processor',\n",
       "       'Snapdragon 7 Gen 3 Processor', 'Exynos 1330 Processor',\n",
       "       'MediaTek Dimensity 7020 Processor', '4 Gen 2 Processor',\n",
       "       'Dimensity 6080 Processor', 'Snapdragon 6 Gen 1 Processor',\n",
       "       'Qualcomm Snapdragon 4 Gen 1 Processor',\n",
       "       'Dimensity 6100+ Processor', 'Snapdragon 4 Gen 2 Processor',\n",
       "       'Dimensity 7200 5G Mobile Platform Processor', '695 Processor',\n",
       "       'Dimensity 6300 Processor', 'Snapdragon 680 Processor',\n",
       "       '4 Gen 1 Processor', 'MediaTek Dimensity 6020 Processor',\n",
       "       '7 Gen 1 Processor', 'MediaTek Helio G99 Ultimate Processor',\n",
       "       'Qualcomm Snapdragon 6 Gen 1 Processor',\n",
       "       '1 Year Warranty for Phone and 6 Months Warranty for In-Box Accessories',\n",
       "       'Qualcomm SM7225 Snapdragon 750G 5G (8 nm) Processor',\n",
       "       'Qualcomm Snapdragon 765G Processor',\n",
       "       \"India's First 2.6GHz MediaTek Dimensity 7050 Superfast Processor Processor\",\n",
       "       'Qualcomm Snapdragon 710 Octa Core 2.2 GHz AIE Processor',\n",
       "       'Dimensity 8100 Processor', 'Exynos 9611 Processor',\n",
       "       'Dimesity 8050 Processor',\n",
       "       '2.6 Ghz MediaTek Dimensity 7050 Octa Core processor Processor',\n",
       "       'Samsung Exynos 1480 Processor', '7s Gen 3 Processor',\n",
       "       'Dimensity 8200 5G Processor',\n",
       "       '8s Gen 3 Mobile Platform Processor', 'Dimensity 8200 Processor',\n",
       "       'Samsung Exynos 2200 Processor',\n",
       "       'MediaTek Dimensity 9000 Processor', '778G Processor',\n",
       "       'Snapdragon 778G 5G Processor',\n",
       "       'Qualcomm Snapdragon 855 Plus Processor',\n",
       "       'Snapdragon 6s Gen 3 Processor', 'T760 Processor',\n",
       "       'T606 Processor', 'Dimensity 7025 Processor',\n",
       "       '4s Gen 2 5G Processor', 'MediaTek Dimensity 6100+ Processor',\n",
       "       'Qualcomm SM6450 Snapdragon 6 Gen 1 Processor',\n",
       "       'MediaTek Helio G36 Processor', 'Unisoc T616 Ocra Core Processor',\n",
       "       'T612 Processor', 'Dimensity 7025 Ultra Processor',\n",
       "       'Qualcomm Snapdragon 8 Gen 2 Processor',\n",
       "       'Dimensity 6100+ 5G Chipset Processor', 'Helio G36 Processor',\n",
       "       'Dimensity 7300 5G Processor', 'Snapdragon 4 Gen2 AE Processor',\n",
       "       '4 Gen 2 5G Processor',\n",
       "       '1 Year Manufacturer Warranty for Phone and 6 Months Warranty for In the Box Accessories',\n",
       "       '4 Gen 2 AE Processor', 'Dimensity 7020 Processor'], dtype=object)"
      ]
     },
     "execution_count": 33,
     "metadata": {},
     "output_type": "execute_result"
    }
   ],
   "source": [
    "df['Processor'] = df['Processor'].str.replace(r'\\b(Mediatek|MediaTek)\\b', 'MediaTek', regex=True)\n",
    "df['Processor'].unique()"
   ]
  },
  {
   "cell_type": "code",
   "execution_count": 34,
   "id": "554770b3-2a3a-468e-b031-c9a4edd302d6",
   "metadata": {},
   "outputs": [
    {
     "name": "stdout",
     "output_type": "stream",
     "text": [
      "                                         Phone Name  RAM  ROM  Back Camera  \\\n",
      "0                     POCO M4 5G (Cool Blue, 64 GB)    4   64           50   \n",
      "1                       POCO C55 (Cool Blue, 64 GB)    4   64           50   \n",
      "2                   POCO M4 5G (Power Black, 64 GB)    4   64           50   \n",
      "3                     POCO C55 (Power Black, 64 GB)    4   64           50   \n",
      "4                    POCO C55 (Forest Green, 64 GB)    4   64           50   \n",
      "...                                             ...  ...  ...          ...   \n",
      "1799              vivo T2x 5G (Aurora Gold, 128 GB)    6  128           50   \n",
      "1800              vivo T2x 5G (Marine Blue, 128 GB)    6  128           50   \n",
      "1801  SAMSUNG Galaxy S23 5G (Phantom Black, 128 GB)    8  128           50   \n",
      "1802             vivo Y28s 5G (Vintage Red, 128 GB)    6  128           50   \n",
      "1803  SAMSUNG Galaxy S23 5G (Phantom Black, 256 GB)    8  256           50   \n",
      "\n",
      "      Front_Camera  Battery                              Processor  Price  \\\n",
      "0                8     5000       MediaTek Dimensity 700 Processor  11999   \n",
      "1                5     5000           MediaTek Helio G85 Processor   7749   \n",
      "2                8     5000       MediaTek Dimensity 700 Processor  11999   \n",
      "3                5     5000           MediaTek Helio G85 Processor   7749   \n",
      "4                5     5000           MediaTek Helio G85 Processor   7749   \n",
      "...            ...      ...                                    ...    ...   \n",
      "1799             8     5000      MediaTek Dimensity 6020 Processor  12999   \n",
      "1800             8     5000      MediaTek Dimensity 6020 Processor  12999   \n",
      "1801            12     3900  Qualcomm Snapdragon 8 Gen 2 Processor  39999   \n",
      "1802             8     5000               Dimensity 6300 Processor  14499   \n",
      "1803            12     3900  Qualcomm Snapdragon 8 Gen 2 Processor  42999   \n",
      "\n",
      "     Processor_Brand  \n",
      "0           MediaTek  \n",
      "1           MediaTek  \n",
      "2           MediaTek  \n",
      "3           MediaTek  \n",
      "4           MediaTek  \n",
      "...              ...  \n",
      "1799        MediaTek  \n",
      "1800        MediaTek  \n",
      "1801        Qualcomm  \n",
      "1802        MediaTek  \n",
      "1803        Qualcomm  \n",
      "\n",
      "[1804 rows x 9 columns]\n"
     ]
    }
   ],
   "source": [
    "import pandas as pd\n",
    "import re\n",
    "\n",
    "def clean_processor(processor):\n",
    "    processor = processor.lower().strip()\n",
    "    processor = re.sub(r'[^a-z0-9\\s]', '', processor) \n",
    "    return processor\n",
    "\n",
    "def extract_processor_brand(processor):\n",
    "    if 'mediatek' in processor or 'dimensity' in processor:\n",
    "        return 'MediaTek'\n",
    "    elif 'snapdragon' in processor:\n",
    "        return 'Qualcomm'\n",
    "    elif 'exynos' in processor:\n",
    "        return 'Exynos'\n",
    "    elif 'unisoc' in processor or 'spreadtrum' in processor:\n",
    "        return 'Unisoc'\n",
    "    elif 'kirin' in processor:\n",
    "        return 'Kirin'\n",
    "    elif 'tensor' in processor:\n",
    "        return 'Google Tensor'\n",
    "    elif 'octa core' in processor or 'quad core' in processor:\n",
    "        return 'Generic (Unbranded)'\n",
    "    else:\n",
    "        return 'Qualcomm' \n",
    "\n",
    "df['Processor_Cleaned'] = df['Processor'].apply(clean_processor)\n",
    "df['Processor_Brand'] = df['Processor_Cleaned'].apply(extract_processor_brand)\n",
    "\n",
    "df = df.drop(columns=['Processor_Cleaned'])\n",
    "\n",
    "print(df)\n"
   ]
  },
  {
   "cell_type": "code",
   "execution_count": 35,
   "id": "59c29b42-d764-4509-8159-33911fd2b444",
   "metadata": {},
   "outputs": [
    {
     "data": {
      "text/plain": [
       "Processor_Brand\n",
       "Qualcomm               811\n",
       "MediaTek               801\n",
       "Exynos                  90\n",
       "Unisoc                  73\n",
       "Generic (Unbranded)     12\n",
       "Google Tensor           11\n",
       "Kirin                    6\n",
       "Name: count, dtype: int64"
      ]
     },
     "execution_count": 35,
     "metadata": {},
     "output_type": "execute_result"
    }
   ],
   "source": [
    "df['Processor_Brand'].value_counts()"
   ]
  },
  {
   "cell_type": "code",
   "execution_count": 44,
   "id": "4bdb3204-eec6-4104-8a3c-30f1ebdebc0a",
   "metadata": {},
   "outputs": [],
   "source": [
    "df['Processor_Brand'].unique()\n",
    "df.drop(columns=['Processor'],inplace=True)"
   ]
  },
  {
   "cell_type": "code",
   "execution_count": 45,
   "id": "62bbbabd-6349-4d90-94a6-51c493f1ea47",
   "metadata": {},
   "outputs": [
    {
     "data": {
      "text/html": [
       "<div>\n",
       "<style scoped>\n",
       "    .dataframe tbody tr th:only-of-type {\n",
       "        vertical-align: middle;\n",
       "    }\n",
       "\n",
       "    .dataframe tbody tr th {\n",
       "        vertical-align: top;\n",
       "    }\n",
       "\n",
       "    .dataframe thead th {\n",
       "        text-align: right;\n",
       "    }\n",
       "</style>\n",
       "<table border=\"1\" class=\"dataframe\">\n",
       "  <thead>\n",
       "    <tr style=\"text-align: right;\">\n",
       "      <th></th>\n",
       "      <th>Phone Name</th>\n",
       "      <th>RAM</th>\n",
       "      <th>ROM</th>\n",
       "      <th>Back Camera</th>\n",
       "      <th>Front_Camera</th>\n",
       "      <th>Battery</th>\n",
       "      <th>Price</th>\n",
       "      <th>Processor_Brand</th>\n",
       "    </tr>\n",
       "  </thead>\n",
       "  <tbody>\n",
       "    <tr>\n",
       "      <th>0</th>\n",
       "      <td>POCO M4 5G (Cool Blue, 64 GB)</td>\n",
       "      <td>4</td>\n",
       "      <td>64</td>\n",
       "      <td>50</td>\n",
       "      <td>8</td>\n",
       "      <td>5000</td>\n",
       "      <td>11999</td>\n",
       "      <td>MediaTek</td>\n",
       "    </tr>\n",
       "    <tr>\n",
       "      <th>1</th>\n",
       "      <td>POCO C55 (Cool Blue, 64 GB)</td>\n",
       "      <td>4</td>\n",
       "      <td>64</td>\n",
       "      <td>50</td>\n",
       "      <td>5</td>\n",
       "      <td>5000</td>\n",
       "      <td>7749</td>\n",
       "      <td>MediaTek</td>\n",
       "    </tr>\n",
       "    <tr>\n",
       "      <th>2</th>\n",
       "      <td>POCO M4 5G (Power Black, 64 GB)</td>\n",
       "      <td>4</td>\n",
       "      <td>64</td>\n",
       "      <td>50</td>\n",
       "      <td>8</td>\n",
       "      <td>5000</td>\n",
       "      <td>11999</td>\n",
       "      <td>MediaTek</td>\n",
       "    </tr>\n",
       "    <tr>\n",
       "      <th>3</th>\n",
       "      <td>POCO C55 (Power Black, 64 GB)</td>\n",
       "      <td>4</td>\n",
       "      <td>64</td>\n",
       "      <td>50</td>\n",
       "      <td>5</td>\n",
       "      <td>5000</td>\n",
       "      <td>7749</td>\n",
       "      <td>MediaTek</td>\n",
       "    </tr>\n",
       "    <tr>\n",
       "      <th>4</th>\n",
       "      <td>POCO C55 (Forest Green, 64 GB)</td>\n",
       "      <td>4</td>\n",
       "      <td>64</td>\n",
       "      <td>50</td>\n",
       "      <td>5</td>\n",
       "      <td>5000</td>\n",
       "      <td>7749</td>\n",
       "      <td>MediaTek</td>\n",
       "    </tr>\n",
       "  </tbody>\n",
       "</table>\n",
       "</div>"
      ],
      "text/plain": [
       "                        Phone Name  RAM  ROM  Back Camera  Front_Camera  \\\n",
       "0    POCO M4 5G (Cool Blue, 64 GB)    4   64           50             8   \n",
       "1      POCO C55 (Cool Blue, 64 GB)    4   64           50             5   \n",
       "2  POCO M4 5G (Power Black, 64 GB)    4   64           50             8   \n",
       "3    POCO C55 (Power Black, 64 GB)    4   64           50             5   \n",
       "4   POCO C55 (Forest Green, 64 GB)    4   64           50             5   \n",
       "\n",
       "   Battery  Price Processor_Brand  \n",
       "0     5000  11999        MediaTek  \n",
       "1     5000   7749        MediaTek  \n",
       "2     5000  11999        MediaTek  \n",
       "3     5000   7749        MediaTek  \n",
       "4     5000   7749        MediaTek  "
      ]
     },
     "execution_count": 45,
     "metadata": {},
     "output_type": "execute_result"
    }
   ],
   "source": [
    "df.head(5)"
   ]
  },
  {
   "cell_type": "code",
   "execution_count": 46,
   "id": "f6a6c91b-2a36-4550-89f9-a9aa83d4f252",
   "metadata": {},
   "outputs": [
    {
     "data": {
      "text/plain": [
       "0    11999\n",
       "1     7749\n",
       "2    11999\n",
       "3     7749\n",
       "4     7749\n",
       "Name: Price, dtype: int64"
      ]
     },
     "execution_count": 46,
     "metadata": {},
     "output_type": "execute_result"
    }
   ],
   "source": [
    "x=df.iloc[:, :-2]\n",
    "x=pd.concat([x, df.iloc[:, -1]], axis=1)\n",
    "y=df[\"Price\"]\n",
    "\n",
    "y.head(5)"
   ]
  },
  {
   "cell_type": "code",
   "execution_count": 47,
   "id": "98129ee0-b8e2-4564-8fb0-d45c8bcb4b9a",
   "metadata": {},
   "outputs": [],
   "source": [
    "from sklearn.model_selection import train_test_split\n",
    "x_train,x_test,y_train,y_test=train_test_split(x,y,test_size=0.2,random_state=42)"
   ]
  },
  {
   "cell_type": "code",
   "execution_count": 48,
   "id": "77ade84a-ccc9-42ba-9a28-a01296714b1a",
   "metadata": {},
   "outputs": [
    {
     "name": "stdout",
     "output_type": "stream",
     "text": [
      "0.7194414863973033\n"
     ]
    }
   ],
   "source": [
    "from sklearn.compose import ColumnTransformer\n",
    "from sklearn.preprocessing import StandardScaler, OneHotEncoder\n",
    "from sklearn.pipeline import Pipeline\n",
    "from sklearn.linear_model import Ridge\n",
    "from sklearn.metrics import r2_score\n",
    "step1 = ColumnTransformer(\n",
    "    transformers=[\n",
    "        ('num', StandardScaler(), ['RAM', 'ROM', 'Back Camera', 'Front_Camera', 'Battery']),\n",
    "        ('cat', OneHotEncoder(handle_unknown='ignore', sparse_output=False), ['Processor_Brand', 'Phone Name'])  # Use sparse_output=False\n",
    "    ],\n",
    "    remainder='passthrough'\n",
    ")\n",
    "step2 = Ridge(alpha=0.01)\n",
    "pipe = Pipeline([\n",
    "    ('step1', step1),\n",
    "    ('step2', step2)\n",
    "])\n",
    "pipe.fit(x_train, y_train)\n",
    "y_pred = pipe.predict(x_test)\n",
    "print(r2_score(y_test, y_pred))\n"
   ]
  },
  {
   "cell_type": "code",
   "execution_count": 51,
   "id": "b17ce863-1e44-44e1-a720-5f0c8164214a",
   "metadata": {},
   "outputs": [
    {
     "name": "stdout",
     "output_type": "stream",
     "text": [
      "R2 Score for Stacking Regressor: 0.8207861390251353\n",
      "Mean Absolute Error: 2807.3224735321314\n",
      "Mean Squared Error: 15541961.76803614\n",
      "Median Absolute Error: 2036.0762226273946\n"
     ]
    },
    {
     "data": {
      "text/plain": [
       "['stacking_regressor_model.pkl']"
      ]
     },
     "execution_count": 51,
     "metadata": {},
     "output_type": "execute_result"
    }
   ],
   "source": [
    "from sklearn.ensemble import StackingRegressor\n",
    "from sklearn.linear_model import Ridge, LinearRegression\n",
    "from sklearn.tree import DecisionTreeRegressor\n",
    "from sklearn.svm import SVR\n",
    "from sklearn.ensemble import RandomForestRegressor, GradientBoostingRegressor\n",
    "from xgboost import XGBRegressor\n",
    "from sklearn.compose import ColumnTransformer\n",
    "from sklearn.preprocessing import StandardScaler, OneHotEncoder\n",
    "from sklearn.pipeline import Pipeline\n",
    "from sklearn.metrics import r2_score, mean_absolute_error, mean_squared_error, median_absolute_error\n",
    "import joblib\n",
    "\n",
    "base_regressors = [\n",
    "    ('ridge', Ridge(alpha=0.01)),\n",
    "    ('lr', LinearRegression()),\n",
    "    ('dt', DecisionTreeRegressor(random_state=42)),\n",
    "    ('rf', RandomForestRegressor(random_state=42)),\n",
    "    ('svr', SVR()),\n",
    "    ('gbr', GradientBoostingRegressor(random_state=42)),\n",
    "    ('xgb', XGBRegressor(random_state=42))\n",
    "]\n",
    "\n",
    "meta_regressor = LinearRegression()\n",
    "\n",
    "step1 = ColumnTransformer(\n",
    "    transformers=[\n",
    "        ('num', StandardScaler(), ['RAM', 'ROM', 'Back Camera', 'Front_Camera', 'Battery']),\n",
    "        ('cat', OneHotEncoder(handle_unknown='ignore'), ['Processor_Brand', 'Phone Name'])\n",
    "    ],\n",
    "    remainder='passthrough'\n",
    ")\n",
    "\n",
    "stacking_regressor = StackingRegressor(\n",
    "    estimators=base_regressors,\n",
    "    final_estimator=meta_regressor\n",
    ")\n",
    "\n",
    "pipe_stacking = Pipeline([\n",
    "    ('step1', step1),\n",
    "    ('stacking', stacking_regressor)\n",
    "])\n",
    "\n",
    "pipe_stacking.fit(x_train, y_train)\n",
    "y_pred_stacking = pipe_stacking.predict(x_test)\n",
    "\n",
    "print(\"R2 Score for Stacking Regressor:\", r2_score(y_test, y_pred_stacking))\n",
    "print(\"Mean Absolute Error:\", mean_absolute_error(y_test, y_pred_stacking))\n",
    "print(\"Mean Squared Error:\", mean_squared_error(y_test, y_pred_stacking))\n",
    "print(\"Median Absolute Error:\", median_absolute_error(y_test, y_pred_stacking))\n",
    "\n",
    "joblib.dump(pipe_stacking, 'stacking_regressor_model.pkl')\n"
   ]
  },
  {
   "cell_type": "code",
   "execution_count": null,
   "id": "d2485649-5036-4ee8-8331-c31dc909b55f",
   "metadata": {},
   "outputs": [],
   "source": []
  },
  {
   "cell_type": "code",
   "execution_count": null,
   "id": "a8bfc26b-81e0-4631-a4cc-a77d279d58ad",
   "metadata": {},
   "outputs": [],
   "source": []
  },
  {
   "cell_type": "code",
   "execution_count": null,
   "id": "71050457-5ba3-4f47-a7fb-305c530cdb7b",
   "metadata": {},
   "outputs": [],
   "source": []
  },
  {
   "cell_type": "code",
   "execution_count": null,
   "id": "c9ca9b28-b18b-48d8-97ea-f4674fa51fbe",
   "metadata": {},
   "outputs": [],
   "source": []
  },
  {
   "cell_type": "code",
   "execution_count": null,
   "id": "f423986f-451a-4dd7-8675-ed218fcbf9c0",
   "metadata": {},
   "outputs": [],
   "source": []
  },
  {
   "cell_type": "code",
   "execution_count": null,
   "id": "2b010827-af30-4ec9-878f-f300debbf013",
   "metadata": {},
   "outputs": [],
   "source": []
  },
  {
   "cell_type": "code",
   "execution_count": null,
   "id": "359d3c5b-c490-4a8d-8f32-fb84342c2aec",
   "metadata": {},
   "outputs": [],
   "source": []
  },
  {
   "cell_type": "code",
   "execution_count": null,
   "id": "bf3a52dd-17d0-4705-8d94-d8784ae4ec11",
   "metadata": {},
   "outputs": [],
   "source": []
  },
  {
   "cell_type": "code",
   "execution_count": null,
   "id": "99f2116e-6654-4a90-92b6-7ac4d2c68c89",
   "metadata": {},
   "outputs": [],
   "source": []
  },
  {
   "cell_type": "code",
   "execution_count": null,
   "id": "98d50e00-ead6-41b8-a1cd-a8301d639a32",
   "metadata": {},
   "outputs": [],
   "source": []
  },
  {
   "cell_type": "code",
   "execution_count": null,
   "id": "24e1b016-1969-48b2-976a-a1c90841fac5",
   "metadata": {},
   "outputs": [],
   "source": []
  },
  {
   "cell_type": "code",
   "execution_count": null,
   "id": "cd24001c-4e8d-4208-853e-6527e34c8005",
   "metadata": {},
   "outputs": [],
   "source": []
  },
  {
   "cell_type": "code",
   "execution_count": null,
   "id": "a1aae423-8ad9-49ea-aee1-d3753658814b",
   "metadata": {},
   "outputs": [],
   "source": []
  },
  {
   "cell_type": "code",
   "execution_count": null,
   "id": "20a3fb1c-fbfa-4191-9ca5-ae1ac8a9e33e",
   "metadata": {},
   "outputs": [],
   "source": []
  },
  {
   "cell_type": "code",
   "execution_count": null,
   "id": "8f847d12-5a8c-4ac9-a7b4-6f22cff0a67c",
   "metadata": {},
   "outputs": [],
   "source": []
  }
 ],
 "metadata": {
  "kernelspec": {
   "display_name": "Python 3 (ipykernel)",
   "language": "python",
   "name": "python3"
  },
  "language_info": {
   "codemirror_mode": {
    "name": "ipython",
    "version": 3
   },
   "file_extension": ".py",
   "mimetype": "text/x-python",
   "name": "python",
   "nbconvert_exporter": "python",
   "pygments_lexer": "ipython3",
   "version": "3.12.7"
  }
 },
 "nbformat": 4,
 "nbformat_minor": 5
}
